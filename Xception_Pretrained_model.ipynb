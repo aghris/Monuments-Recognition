{
 "cells": [
  {
   "cell_type": "code",
   "execution_count": 1,
   "metadata": {
    "_cell_guid": "b1076dfc-b9ad-4769-8c92-a6c4dae69d19",
    "_uuid": "8f2839f25d086af736a60e9eeb907d3b93b6e0e5"
   },
   "outputs": [],
   "source": [
    "from PIL import Image\n",
    "import numpy as np\n",
    "import os\n",
    "import cv2"
   ]
  },
  {
   "cell_type": "code",
   "execution_count": 2,
   "metadata": {
    "_cell_guid": "79c7e3d0-c299-4dcb-8224-4455121ee9b0",
    "_uuid": "d629ff2d2480ee46fbb7e2d37f6b5fab8052498a"
   },
   "outputs": [],
   "source": [
    "data=[]\n",
    "labels=[]\n",
    "size=299\n",
    "Sol=os.listdir(\"./Data/Sol/\")\n",
    "for taj in Sol:\n",
    "    imag=cv2.imread(\"./Data/Sol/\"+taj)\n",
    "    img_from_ar = Image.fromarray(imag, 'RGB')\n",
    "    resized_image = img_from_ar.resize((size, size))\n",
    "    data.append(np.array(resized_image))\n",
    "    labels.append(0)\n",
    "\n",
    "Taj_Mahal=os.listdir(\"./Data/Taj_Mahal\")\n",
    "for taj in Taj_Mahal:\n",
    "    imag=cv2.imread(\"./Data/Taj_Mahal/\"+taj)\n",
    "    img_from_ar = Image.fromarray(imag, 'RGB')\n",
    "    resized_image = img_from_ar.resize((size, size))\n",
    "    data.append(np.array(resized_image))\n",
    "    labels.append(1)\n",
    "    \n",
    "Tour_Effel=os.listdir(\"./Data/Tour_Effel\")\n",
    "for tour in Tour_Effel:\n",
    "    imag=cv2.imread(\"./Data/Tour_Effel/\"+tour)\n",
    "    img_from_ar = Image.fromarray(imag, 'RGB')\n",
    "    resized_image = img_from_ar.resize((size, size))\n",
    "    data.append(np.array(resized_image))\n",
    "    labels.append(2)\n",
    "    \n",
    "Big_Ben=os.listdir(\"./Data/Big_Ben/\")\n",
    "for tour in Big_Ben:\n",
    "    imag=cv2.imread(\"./Data/Big_Ben/\"+tour)\n",
    "    img_from_ar = Image.fromarray(imag, 'RGB')\n",
    "    resized_image = img_from_ar.resize((size, size))\n",
    "    data.append(np.array(resized_image))\n",
    "    labels.append(3)\n",
    "Towers=os.listdir(\"./Data/Towers\")\n",
    "for tour in Towers:\n",
    "    imag=cv2.imread(\"./Data/Towers/\"+tour)\n",
    "    img_from_ar = Image.fromarray(imag, 'RGB')\n",
    "    resized_image = img_from_ar.resize((size, size))\n",
    "    data.append(np.array(resized_image))\n",
    "    labels.append(4)"
   ]
  },
  {
   "cell_type": "code",
   "execution_count": 3,
   "metadata": {},
   "outputs": [],
   "source": [
    "monuments=np.array(data)\n",
    "labels=np.array(labels)"
   ]
  },
  {
   "cell_type": "code",
   "execution_count": 4,
   "metadata": {},
   "outputs": [],
   "source": [
    "s=np.arange(monuments.shape[0])\n",
    "np.random.shuffle(s)\n",
    "monuments=monuments[s]\n",
    "labels=labels[s]"
   ]
  },
  {
   "cell_type": "code",
   "execution_count": 5,
   "metadata": {},
   "outputs": [
    {
     "name": "stdout",
     "output_type": "stream",
     "text": [
      "2402\n"
     ]
    },
    {
     "data": {
      "text/plain": [
       "5"
      ]
     },
     "execution_count": 5,
     "metadata": {},
     "output_type": "execute_result"
    }
   ],
   "source": [
    "num_classes=len(np.unique(labels))\n",
    "data_length=len(monuments)\n",
    "print(len(monuments))\n",
    "num_classes"
   ]
  },
  {
   "cell_type": "code",
   "execution_count": null,
   "metadata": {},
   "outputs": [],
   "source": [
    "x_train=monuments[:(int)(0.7*data_length)]\n",
    "x_val=monuments[(int)(0.7*data_length):]\n",
    "train_length=len(x_train)\n",
    "val_length=len(x_val)\n",
    "print(len(x_train))\n",
    "print(len(x_val))"
   ]
  },
  {
   "cell_type": "code",
   "execution_count": null,
   "metadata": {},
   "outputs": [],
   "source": [
    "y_train=labels[:(int)(0.7*data_length)]\n",
    "y_val=labels[(int)(0.7*data_length):]\n",
    "print(len(y_train))\n",
    "print(len(y_val))"
   ]
  },
  {
   "cell_type": "code",
   "execution_count": null,
   "metadata": {},
   "outputs": [],
   "source": [
    "import keras\n",
    "from keras.utils import np_utils\n",
    "#One hot encoding\n",
    "y_train=keras.utils.to_categorical(y_train,num_classes)\n",
    "y_val=keras.utils.to_categorical(y_val,num_classes)"
   ]
  },
  {
   "cell_type": "code",
   "execution_count": null,
   "metadata": {},
   "outputs": [],
   "source": [
    "from keras.preprocessing.image import ImageDataGenerator\n",
    "BATCH_SIZE = 32\n",
    "\n",
    "# Create train generator.\n",
    "train_datagen = ImageDataGenerator(rescale=1./255, \n",
    "                                   rotation_range=.05, \n",
    "                                   width_shift_range=.05,\n",
    "                                   height_shift_range=.05, \n",
    "                                   horizontal_flip = 'true')\n",
    "train_generator = train_datagen.flow(x_train, y_train,\n",
    "                                     batch_size=BATCH_SIZE, seed=1)\n",
    "                                     \n",
    "# Create validation generator\n",
    "val_datagen = ImageDataGenerator(rescale = 1./255)\n",
    "val_generator = train_datagen.flow(x_val, y_val, \n",
    "                                   batch_size=BATCH_SIZE, seed=1)"
   ]
  },
  {
   "cell_type": "code",
   "execution_count": null,
   "metadata": {},
   "outputs": [],
   "source": [
    "from keras.models import Model\n",
    "from keras.optimizers import Adam\n",
    "from keras.layers import GlobalAveragePooling2D\n",
    "from keras.layers import Dense\n",
    "from keras.layers import Dropout\n",
    "from keras.applications.xception import Xception\n",
    "from keras.utils.np_utils import to_categorical\n",
    "from keras.callbacks import EarlyStopping\n",
    "from keras.callbacks import ModelCheckpoint\n",
    "# Get the InceptionV3 model so we can do transfer learning\n",
    "\n",
    "\n",
    "base_inception = Xception(weights='imagenet', include_top=False, \n",
    "                             input_shape=(299, 299, 3))\n",
    "# Add a global spatial average pooling layer\n",
    "out = base_inception.output\n",
    "out = GlobalAveragePooling2D()(out)\n",
    "out = Dense(512, activation='relu')(out)\n",
    "out = Dropout(0.7)(out)\n",
    "out = Dense(512, activation='relu')(out)\n",
    "out = Dropout(0.7)(out)\n",
    "predictions = Dense(num_classes, activation='softmax')(out)\n",
    "\n",
    "model = Model(inputs=base_inception.input, outputs=predictions)\n",
    "\n",
    "# only if we want to freeze layers\n",
    "for layer in base_inception.layers:\n",
    "    layer.trainable = False\n",
    "    \n",
    "# Compile \n",
    "#model.summary()\n",
    "learning_rate=1e-4\n",
    "model.compile(optimizer = Adam(lr=learning_rate), loss='categorical_crossentropy', metrics=['accuracy']) \n",
    "batch_size = 32\n",
    "train_steps_per_epoch = x_train.shape[0] // batch_size\n",
    "val_steps_per_epoch = x_val.shape[0] // batch_size\n",
    "es = EarlyStopping(monitor='val_acc', mode='max', verbose=1, patience=30)\n",
    "mc = ModelCheckpoint('X_ception_best_model.h5', monitor='val_acc', mode='max', verbose=1, save_best_only=True)\n",
    "# fit model\n",
    "history = model.fit_generator(train_generator,\n",
    "                              steps_per_epoch=train_steps_per_epoch,\n",
    "                              validation_data=val_generator,\n",
    "                              validation_steps=val_steps_per_epoch,\n",
    "                              epochs=1000, verbose=1,callbacks=[es, mc])"
   ]
  },
  {
   "cell_type": "code",
   "execution_count": null,
   "metadata": {},
   "outputs": [],
   "source": [
    "import matplotlib.pyplot as plt\n",
    "\n",
    "#get the details form the history object\n",
    "acc = history.history['acc']\n",
    "val_acc = history.history['val_acc']\n",
    "loss = history.history['loss']\n",
    "val_loss = history.history['val_loss']\n",
    "\n",
    "epochs = range(1, len(acc) + 1)\n",
    "\n",
    "#Train and validation accuracy\n",
    "plt.plot(epochs, acc, 'b', label='Training accurarcy')\n",
    "plt.plot(epochs, val_acc, 'r', label='Validation accurarcy')\n",
    "plt.title('Training and Validation accurarcy')\n",
    "plt.legend()\n",
    "\n",
    "plt.figure()\n",
    "#Train and validation loss\n",
    "plt.plot(epochs, loss, 'b', label='Training loss')\n",
    "plt.plot(epochs, val_loss, 'r', label='Validation loss')\n",
    "plt.title('Training and Validation loss')\n",
    "plt.legend()\n",
    "\n",
    "plt.show()"
   ]
  },
  {
   "cell_type": "code",
   "execution_count": null,
   "metadata": {},
   "outputs": [],
   "source": [
    "import numpy as np\n",
    "for i in range(len(val_acc)-30):\n",
    "    print(str(val_acc[i]))\n",
    "    "
   ]
  },
  {
   "cell_type": "code",
   "execution_count": null,
   "metadata": {},
   "outputs": [],
   "source": []
  }
 ],
 "metadata": {
  "kernelspec": {
   "display_name": "Python 3",
   "language": "python",
   "name": "python3"
  },
  "language_info": {
   "codemirror_mode": {
    "name": "ipython",
    "version": 3
   },
   "file_extension": ".py",
   "mimetype": "text/x-python",
   "name": "python",
   "nbconvert_exporter": "python",
   "pygments_lexer": "ipython3",
   "version": "3.7.1"
  }
 },
 "nbformat": 4,
 "nbformat_minor": 1
}
